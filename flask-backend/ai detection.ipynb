{
 "metadata": {
  "kernelspec": {
   "language": "python",
   "display_name": "Python 3",
   "name": "python3"
  },
  "language_info": {
   "name": "python",
   "version": "3.10.12",
   "mimetype": "text/x-python",
   "codemirror_mode": {
    "name": "ipython",
    "version": 3
   },
   "pygments_lexer": "ipython3",
   "nbconvert_exporter": "python",
   "file_extension": ".py"
  },
  "kaggle": {
   "accelerator": "nvidiaTeslaT4",
   "dataSources": [
    {
     "sourceId": 61542,
     "databundleVersionId": 7516023,
     "sourceType": "competition"
    },
    {
     "sourceId": 6977472,
     "sourceType": "datasetVersion",
     "datasetId": 4005256
    },
    {
     "sourceId": 7448092,
     "sourceType": "datasetVersion",
     "datasetId": 4335364
    }
   ],
   "dockerImageVersionId": 30636,
   "isInternetEnabled": true,
   "language": "python",
   "sourceType": "notebook",
   "isGpuEnabled": true
  }
 },
 "nbformat_minor": 4,
 "nbformat": 4,
 "cells": [
  {
   "cell_type": "code",
   "source": [
    "import pandas as pd\n",
    "import numpy as np\n",
    "import seaborn as sns\n",
    "import matplotlib.pyplot as plt\n",
    "import warnings\n",
    "warnings.filterwarnings(\"ignore\")\n",
    "import tensorflow as tf\n",
    "from sklearn.model_selection import train_test_split\n",
    "import re\n",
    "import tensorflow_text as tf_text\n",
    "from tensorflow.keras.layers import TextVectorization, Embedding, Bidirectional, LSTM, Conv1D, GlobalMaxPooling1D, Dense, Dropout\n",
    "from tensorflow.keras import Model, Input\n",
    "from keras.callbacks import EarlyStopping,ModelCheckpoint\n",
    "from sklearn.metrics import confusion_matrix\n",
    "from sklearn.metrics import classification_report\n",
    "from imblearn.over_sampling import SMOTE"
   ],
   "metadata": {
    "execution": {
     "iopub.status.busy": "2024-05-17T05:41:26.255724Z",
     "iopub.execute_input": "2024-05-17T05:41:26.255999Z",
     "iopub.status.idle": "2024-05-17T05:41:41.699524Z",
     "shell.execute_reply.started": "2024-05-17T05:41:26.255973Z",
     "shell.execute_reply": "2024-05-17T05:41:41.698659Z"
    },
    "trusted": true
   },
   "execution_count": null,
   "outputs": []
  },
  {
   "cell_type": "code",
   "source": [
    "train=pd.read_csv('/kaggle/input/llm-detect-ai-generated-text/train_essays.csv')"
   ],
   "metadata": {
    "execution": {
     "iopub.status.busy": "2024-05-17T05:42:07.679745Z",
     "iopub.execute_input": "2024-05-17T05:42:07.680920Z",
     "iopub.status.idle": "2024-05-17T05:42:07.788074Z",
     "shell.execute_reply.started": "2024-05-17T05:42:07.680881Z",
     "shell.execute_reply": "2024-05-17T05:42:07.787088Z"
    },
    "trusted": true
   },
   "execution_count": null,
   "outputs": []
  },
  {
   "cell_type": "code",
   "source": [
    "test=pd.read_csv('/kaggle/input/llm-detect-ai-generated-text/test_essays.csv')"
   ],
   "metadata": {
    "execution": {
     "iopub.status.busy": "2024-05-17T05:42:07.969151Z",
     "iopub.execute_input": "2024-05-17T05:42:07.969457Z",
     "iopub.status.idle": "2024-05-17T05:42:07.984007Z",
     "shell.execute_reply.started": "2024-05-17T05:42:07.969433Z",
     "shell.execute_reply": "2024-05-17T05:42:07.983219Z"
    },
    "trusted": true
   },
   "execution_count": null,
   "outputs": []
  },
  {
   "cell_type": "code",
   "source": [
    "train_prompts=pd.read_csv('/kaggle/input/llm-detect-ai-generated-text/train_prompts.csv')"
   ],
   "metadata": {
    "execution": {
     "iopub.status.busy": "2024-05-17T05:42:08.418488Z",
     "iopub.execute_input": "2024-05-17T05:42:08.418782Z",
     "iopub.status.idle": "2024-05-17T05:42:08.436165Z",
     "shell.execute_reply.started": "2024-05-17T05:42:08.418759Z",
     "shell.execute_reply": "2024-05-17T05:42:08.435264Z"
    },
    "trusted": true
   },
   "execution_count": null,
   "outputs": []
  },
  {
   "cell_type": "code",
   "source": [
    "new_data=pd.read_csv('/kaggle/input/daigt-v2-train-dataset/train_v2_drcat_02.csv')"
   ],
   "metadata": {
    "execution": {
     "iopub.status.busy": "2024-05-17T05:42:23.659012Z",
     "iopub.execute_input": "2024-05-17T05:42:23.659396Z",
     "iopub.status.idle": "2024-05-17T05:42:25.768809Z",
     "shell.execute_reply.started": "2024-05-17T05:42:23.659365Z",
     "shell.execute_reply": "2024-05-17T05:42:25.767766Z"
    },
    "trusted": true
   },
   "execution_count": null,
   "outputs": []
  },
  {
   "cell_type": "code",
   "source": [
    "new_=new_data.iloc[:, 0:2][new_data['prompt_name'].isin(train_prompts['prompt_name'].values)]\n",
    "new_"
   ],
   "metadata": {
    "execution": {
     "iopub.status.busy": "2024-05-17T05:42:25.816121Z",
     "iopub.execute_input": "2024-05-17T05:42:25.816659Z",
     "iopub.status.idle": "2024-05-17T05:42:25.837299Z",
     "shell.execute_reply.started": "2024-05-17T05:42:25.816628Z",
     "shell.execute_reply": "2024-05-17T05:42:25.836472Z"
    },
    "trusted": true
   },
   "execution_count": null,
   "outputs": []
  },
  {
   "cell_type": "code",
   "source": [
    "t=train.iloc[:,2:]\n",
    "t.columns=['text','label']\n",
    "train_data=pd.concat([new_,t])\n",
    "train_data=train_data.reset_index().iloc[:,1:]\n",
    "train_data.head()"
   ],
   "metadata": {
    "execution": {
     "iopub.status.busy": "2024-05-17T05:42:25.926589Z",
     "iopub.execute_input": "2024-05-17T05:42:25.927363Z",
     "iopub.status.idle": "2024-05-17T05:42:25.941326Z",
     "shell.execute_reply.started": "2024-05-17T05:42:25.927334Z",
     "shell.execute_reply": "2024-05-17T05:42:25.940356Z"
    },
    "trusted": true
   },
   "execution_count": null,
   "outputs": []
  },
  {
   "cell_type": "code",
   "source": [
    "def Clean(text):\n",
    "    text = tf_text.normalize_utf8(text, 'NFKD')\n",
    "    text = tf.strings.lower(text)\n",
    "    text = tf.strings.regex_replace(text, '[^ a-z.?!,¿]', '')\n",
    "    text = tf.strings.regex_replace(text, '[.?!,¿]', r' \\0 ')\n",
    "    text = tf.strings.strip(text)\n",
    "    text = tf.strings.regex_replace(text, '\\.\\.\\.', ' ')\n",
    "    text = tf.strings.join(['',text, ''], separator=' ')\n",
    "    return text\n",
    "def clean_text(text):\n",
    "    # Remove Twitter handles starting with '@'\n",
    "    text = re.sub(r'@\\w+', '', text)\n",
    "    # Remove non-alphanumeric characters and extra whitespace\n",
    "    text = re.sub(r'[^a-zA-Z\\s]', '', text)\n",
    "    # Convert multiple whitespace characters to a single space\n",
    "    text = re.sub(r'\\s+', ' ', text)\n",
    "    # Convert the text to lowercase\n",
    "    text = text.lower()\n",
    "    return text"
   ],
   "metadata": {
    "execution": {
     "iopub.status.busy": "2024-05-17T05:42:48.574233Z",
     "iopub.execute_input": "2024-05-17T05:42:48.574628Z",
     "iopub.status.idle": "2024-05-17T05:42:48.582446Z",
     "shell.execute_reply.started": "2024-05-17T05:42:48.574598Z",
     "shell.execute_reply": "2024-05-17T05:42:48.581516Z"
    },
    "trusted": true
   },
   "execution_count": null,
   "outputs": []
  },
  {
   "cell_type": "code",
   "source": [
    "max_features = 75000\n",
    "embedding_dim = 64\n",
    "sequence_length = 512*2\n",
    "vectorize_layer = tf.keras.layers.TextVectorization(\n",
    "    standardize=Clean ,\n",
    "    max_tokens=max_features,\n",
    "    ngrams = (3,5),\n",
    "    output_mode=\"int\",\n",
    "    output_sequence_length=sequence_length,\n",
    "    pad_to_max_tokens=True\n",
    ")\n",
    "vectorize_layer.adapt(train_data['text'])\n",
    "Text = vectorize_layer(train_data['text']).numpy()\n",
    "Text"
   ],
   "metadata": {
    "execution": {
     "iopub.status.busy": "2024-05-17T05:47:50.378157Z",
     "iopub.execute_input": "2024-05-17T05:47:50.379026Z",
     "iopub.status.idle": "2024-05-17T05:48:15.975945Z",
     "shell.execute_reply.started": "2024-05-17T05:47:50.378982Z",
     "shell.execute_reply": "2024-05-17T05:48:15.974934Z"
    },
    "trusted": true
   },
   "execution_count": null,
   "outputs": []
  },
  {
   "cell_type": "code",
   "source": [
    "sm = SMOTE(random_state=44)\n",
    "Text,labels= sm.fit_resample(Text,train_data['label'])"
   ],
   "metadata": {
    "execution": {
     "iopub.status.busy": "2024-05-17T05:48:15.977925Z",
     "iopub.execute_input": "2024-05-17T05:48:15.978259Z",
     "iopub.status.idle": "2024-05-17T05:48:16.469393Z",
     "shell.execute_reply.started": "2024-05-17T05:48:15.978233Z",
     "shell.execute_reply": "2024-05-17T05:48:16.468625Z"
    },
    "trusted": true
   },
   "execution_count": null,
   "outputs": []
  },
  {
   "cell_type": "code",
   "source": [
    "X_train, X_test, y_train, y_test = train_test_split(Text,labels, test_size=0.2, random_state=44, shuffle =True,stratify=labels)\n"
   ],
   "metadata": {
    "execution": {
     "iopub.status.busy": "2024-05-17T05:48:16.470408Z",
     "iopub.execute_input": "2024-05-17T05:48:16.470699Z",
     "iopub.status.idle": "2024-05-17T05:48:16.517445Z",
     "shell.execute_reply.started": "2024-05-17T05:48:16.470675Z",
     "shell.execute_reply": "2024-05-17T05:48:16.516614Z"
    },
    "trusted": true
   },
   "execution_count": null,
   "outputs": []
  },
  {
   "cell_type": "code",
   "source": [
    "class TransformerBlock(tf.keras.layers.Layer):\n",
    "    def __init__(self, embed_dim, num_heads, ff_dim, rate=0.25):\n",
    "        super(TransformerBlock, self).__init__()\n",
    "        self.att = tf.keras.layers.MultiHeadAttention(num_heads=num_heads, key_dim=embed_dim)\n",
    "        self.ffn = tf.keras.Sequential(\n",
    "            [tf.keras.layers.Dense(ff_dim, activation=\"relu\"), tf.keras.layers.Dense(embed_dim),]\n",
    "        )\n",
    "        self.layernorm1 = tf.keras.layers.LayerNormalization(epsilon=1e-6)\n",
    "        self.layernorm2 = tf.keras.layers.LayerNormalization(epsilon=1e-6)\n",
    "        self.dropout1 = tf.keras.layers.Dropout(rate)\n",
    "        self.dropout2 = tf.keras.layers.Dropout(rate)\n",
    "\n",
    "    def call(self, inputs, training):\n",
    "        attn_output = self.att(inputs, inputs)\n",
    "        attn_output = self.dropout1(attn_output, training=training)\n",
    "        out1 = self.layernorm1(inputs + attn_output)\n",
    "        ffn_output = self.ffn(out1)\n",
    "        ffn_output = self.dropout2(ffn_output, training=training)\n",
    "        return self.layernorm2(out1 + ffn_output)\n",
    "inputs = Input(shape=(sequence_length,), dtype=\"int64\")\n",
    "x = Embedding(max_features, embedding_dim)(inputs)\n",
    "x = Bidirectional(LSTM(32, return_sequences=True))(x)\n",
    "transformer_block = TransformerBlock(embedding_dim, 2, 32)\n",
    "x = transformer_block(x)\n",
    "x = Conv1D(128, 7, padding=\"valid\", activation=\"selu\", strides=3)(x)\n",
    "x = GlobalMaxPooling1D()(x)\n",
    "x = Dense(128, activation=\"selu\")(x)\n",
    "x = Dropout(0.32)(x)\n",
    "predictions = Dense(1, activation=\"sigmoid\", name=\"predictions\")(x)\n",
    "\n",
    "model = Model(inputs=inputs, outputs=predictions)\n",
    "model.summary()"
   ],
   "metadata": {
    "execution": {
     "iopub.status.busy": "2024-05-17T05:48:16.519547Z",
     "iopub.execute_input": "2024-05-17T05:48:16.519890Z",
     "iopub.status.idle": "2024-05-17T05:48:17.659707Z",
     "shell.execute_reply.started": "2024-05-17T05:48:16.519864Z",
     "shell.execute_reply": "2024-05-17T05:48:17.658902Z"
    },
    "trusted": true
   },
   "execution_count": null,
   "outputs": []
  },
  {
   "cell_type": "code",
   "source": [
    "tf.keras.utils.plot_model(model, to_file='model.png', show_shapes=True, show_layer_names=True,show_dtype=True,dpi=120)"
   ],
   "metadata": {
    "execution": {
     "iopub.status.busy": "2024-05-17T05:48:17.660909Z",
     "iopub.execute_input": "2024-05-17T05:48:17.661194Z",
     "iopub.status.idle": "2024-05-17T05:48:17.959994Z",
     "shell.execute_reply.started": "2024-05-17T05:48:17.661168Z",
     "shell.execute_reply": "2024-05-17T05:48:17.959000Z"
    },
    "trusted": true
   },
   "execution_count": null,
   "outputs": []
  },
  {
   "cell_type": "code",
   "source": [
    "checkpoint_cb =ModelCheckpoint(\"model.h5\", save_best_only=True)\n",
    "early_stopping_cb =EarlyStopping(patience=3, restore_best_weights=True)\n",
    "model.compile(optimizer ='adam', loss='binary_crossentropy', metrics=['accuracy'])\n",
    "hist = model.fit(X_train,y_train, epochs=10, validation_split=.1, callbacks=[checkpoint_cb, early_stopping_cb])"
   ],
   "metadata": {
    "execution": {
     "iopub.status.busy": "2024-05-17T05:48:17.961168Z",
     "iopub.execute_input": "2024-05-17T05:48:17.961479Z",
     "iopub.status.idle": "2024-05-17T05:55:29.910544Z",
     "shell.execute_reply.started": "2024-05-17T05:48:17.961435Z",
     "shell.execute_reply": "2024-05-17T05:55:29.909522Z"
    },
    "trusted": true
   },
   "execution_count": null,
   "outputs": []
  },
  {
   "cell_type": "code",
   "source": [
    "hist_=pd.DataFrame(hist.history)\n",
    "hist_"
   ],
   "metadata": {
    "execution": {
     "iopub.status.busy": "2024-01-29T19:27:19.657436Z",
     "iopub.execute_input": "2024-01-29T19:27:19.658131Z",
     "iopub.status.idle": "2024-01-29T19:27:19.670101Z",
     "shell.execute_reply.started": "2024-01-29T19:27:19.6581Z",
     "shell.execute_reply": "2024-01-29T19:27:19.669145Z"
    },
    "trusted": true
   },
   "execution_count": null,
   "outputs": []
  },
  {
   "cell_type": "code",
   "source": [
    "import joblib\n",
    "joblib.dump(hist,\"model\")"
   ],
   "metadata": {},
   "execution_count": null,
   "outputs": []
  },
  {
   "cell_type": "code",
   "source": [
    "score, acc= model.evaluate(X_test,y_test)\n",
    "print('Test Loss =', score)\n",
    "print('Test Accuracy =', acc)"
   ],
   "metadata": {
    "execution": {
     "iopub.status.busy": "2024-01-29T19:27:19.675071Z",
     "iopub.execute_input": "2024-01-29T19:27:19.675474Z",
     "iopub.status.idle": "2024-01-29T19:28:14.850085Z",
     "shell.execute_reply.started": "2024-01-29T19:27:19.675447Z",
     "shell.execute_reply": "2024-01-29T19:28:14.849098Z"
    },
    "trusted": true
   },
   "execution_count": null,
   "outputs": []
  },
  {
   "cell_type": "code",
   "source": [
    "\n",
    "st=\"problems or answers questions your target audience has.Embrace the Journey: Learning and sharing your knowledge alongside your audience can be a rewarding experience.\"\n",
    "st=pd.Series(st)"
   ],
   "metadata": {
    "execution": {
     "iopub.status.busy": "2024-05-17T05:46:09.602977Z",
     "iopub.execute_input": "2024-05-17T05:46:09.603858Z",
     "iopub.status.idle": "2024-05-17T05:46:09.608340Z",
     "shell.execute_reply.started": "2024-05-17T05:46:09.603823Z",
     "shell.execute_reply": "2024-05-17T05:46:09.607320Z"
    },
    "trusted": true
   },
   "execution_count": null,
   "outputs": []
  },
  {
   "cell_type": "code",
   "source": [
    "print(type(test['text']))\n",
    "print(st.shape)\n",
    "test_text = vectorize_layer(st).numpy()\n",
    "predictions = model.predict(test_text)"
   ],
   "metadata": {
    "execution": {
     "iopub.status.busy": "2024-05-17T05:55:29.912491Z",
     "iopub.execute_input": "2024-05-17T05:55:29.912815Z",
     "iopub.status.idle": "2024-05-17T05:55:30.864206Z",
     "shell.execute_reply.started": "2024-05-17T05:55:29.912786Z",
     "shell.execute_reply": "2024-05-17T05:55:30.863355Z"
    },
    "trusted": true
   },
   "execution_count": null,
   "outputs": []
  },
  {
   "cell_type": "code",
   "source": [
    "predictions[0][0]"
   ],
   "metadata": {
    "execution": {
     "iopub.status.busy": "2024-05-17T05:59:03.645925Z",
     "iopub.execute_input": "2024-05-17T05:59:03.646316Z",
     "iopub.status.idle": "2024-05-17T05:59:03.652557Z",
     "shell.execute_reply.started": "2024-05-17T05:59:03.646287Z",
     "shell.execute_reply": "2024-05-17T05:59:03.651620Z"
    },
    "trusted": true
   },
   "execution_count": null,
   "outputs": []
  },
  {
   "cell_type": "code",
   "source": [
    "from keras.models import load_model\n",
    "#model=load_model(\"PAth to model\")\n",
    "def prediction(st,model):#st is of type string \n",
    "    st=pd.Series(st)\n",
    "    test_text = vectorize_layer(st).numpy()\n",
    "    predictions = model.predict(test_text)\n",
    "    return predictions[0][0]\n",
    "prediction(\"hello,Hello Nice to meet you\",model)"
   ],
   "metadata": {},
   "execution_count": null,
   "outputs": []
  },
  {
   "cell_type": "code",
   "source": [
    "\n"
   ],
   "metadata": {
    "execution": {
     "iopub.status.busy": "2024-01-29T19:28:19.080376Z",
     "iopub.execute_input": "2024-01-29T19:28:19.080667Z",
     "iopub.status.idle": "2024-01-29T19:28:19.268984Z",
     "shell.execute_reply.started": "2024-01-29T19:28:19.080641Z",
     "shell.execute_reply": "2024-01-29T19:28:19.268061Z"
    },
    "trusted": true
   },
   "execution_count": null,
   "outputs": []
  }
 ]
}
