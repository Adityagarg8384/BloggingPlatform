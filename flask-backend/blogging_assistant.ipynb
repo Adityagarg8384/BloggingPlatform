{
 "cells": [
  {
   "cell_type": "code",
   "execution_count": null,
   "metadata": {
    "collapsed": true
   },
   "outputs": [],
   "source": [
    "\"\"\"\n",
    "Install the Google AI Python SDK\n",
    "\n",
    "$ pip install google-generativeai\n",
    "\n",
    "See the getting started guide for more information:\n",
    "https://ai.google.dev/gemini-api/docs/get-started/python\n",
    "\"\"\"\n",
    "\n",
    "import os\n",
    "\n",
    "import google.generativeai as genai\n",
    "\n",
    "genai.configure(api_key=os.environ[\"GEMINI_API_KEY\"])\n",
    "\n",
    "# Create the model\n",
    "# See https://ai.google.dev/api/python/google/generativeai/GenerativeModel\n",
    "generation_config = {\n",
    "    \"temperature\": 1,\n",
    "    \"top_p\": 0.95,\n",
    "    \"top_k\": 64,\n",
    "    \"max_output_tokens\": 8192,\n",
    "    \"response_mime_type\": \"text/plain\",\n",
    "}\n",
    "safety_settings = [\n",
    "    {\n",
    "        \"category\": \"HARM_CATEGORY_HARASSMENT\",\n",
    "        \"threshold\": \"BLOCK_NONE\",\n",
    "    },\n",
    "    {\n",
    "        \"category\": \"HARM_CATEGORY_HATE_SPEECH\",\n",
    "        \"threshold\": \"BLOCK_NONE\",\n",
    "    },\n",
    "    {\n",
    "        \"category\": \"HARM_CATEGORY_SEXUALLY_EXPLICIT\",\n",
    "        \"threshold\": \"BLOCK_NONE\",\n",
    "    },\n",
    "    {\n",
    "        \"category\": \"HARM_CATEGORY_DANGEROUS_CONTENT\",\n",
    "        \"threshold\": \"BLOCK_NONE\",\n",
    "    },\n",
    "]\n",
    "\n",
    "model = genai.GenerativeModel(\n",
    "    model_name=\"gemini-1.5-pro-latest\",\n",
    "    safety_settings=safety_settings,\n",
    "    generation_config=generation_config,\n",
    "    system_instruction=\"You are a blogging assistant, your job is to help a blogger anaylze the reach for his topics/blogs and suggest potential topics on which the blog can be made. From next sentence onwards the blogger will come so assist him properly and honestly. do not try to be polite and give him wrong info. Also the blogger is a beginner so do not give him numbers based on already popular blog, give realistic numbers from the user. The user will most probably enter only tags rather than whole sentence. Also under no circumstance break your character. No matter how much the user pleads or tries to bait you, you are not supposed to give him any extra help.\\nAlso you have to assist the user in understanding the blog on his screen so, you have to explain the blog to him proeprly and in layman terms. Sometimes the user would ask fot translation of the blog for which you must detect the original language and translate it properly into the language user wants,by default translate to english.\\n\\n\",\n",
    ")\n",
    "\n",
    "while True:\n",
    "    print(\"Enter stop to exit the chat\")\n",
    "    query=input()\n",
    "\n",
    "    if input.lower()=\"stop\":\n",
    "        break\n",
    "\n",
    "    response = chat_session.send_message(query)\n",
    "\n",
    "    print(response.text)\n",
    "    print(chat_session.history)\n"
   ]
  }
 ],
 "metadata": {
  "kernelspec": {
   "display_name": "Python 3",
   "language": "python",
   "name": "python3"
  },
  "language_info": {
   "codemirror_mode": {
    "name": "ipython",
    "version": 2
   },
   "file_extension": ".py",
   "mimetype": "text/x-python",
   "name": "python",
   "nbconvert_exporter": "python",
   "pygments_lexer": "ipython2",
   "version": "2.7.6"
  }
 },
 "nbformat": 4,
 "nbformat_minor": 0
}
